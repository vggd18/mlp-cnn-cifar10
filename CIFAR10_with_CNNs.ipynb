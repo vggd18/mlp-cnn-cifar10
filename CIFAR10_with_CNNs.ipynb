{
  "nbformat": 4,
  "nbformat_minor": 0,
  "metadata": {
    "colab": {
      "provenance": [],
      "gpuType": "T4",
      "include_colab_link": true
    },
    "kernelspec": {
      "name": "python3",
      "display_name": "Python 3"
    },
    "language_info": {
      "name": "python"
    },
    "accelerator": "GPU"
  },
  "cells": [
    {
      "cell_type": "markdown",
      "metadata": {
        "id": "view-in-github",
        "colab_type": "text"
      },
      "source": [
        "<a href=\"https://colab.research.google.com/github/vggd18/mlp-cnn-cifar10/blob/main/CIFAR10_with_CNNs.ipynb\" target=\"_parent\"><img src=\"https://colab.research.google.com/assets/colab-badge.svg\" alt=\"Open In Colab\"/></a>"
      ]
    },
    {
      "cell_type": "markdown",
      "source": [
        "# CIFAR10 with CNNs\n",
        "Simple starter notebook to benchmark your own CNN with PyTorch on the CIFAR-10 dataset.\n",
        "\n",
        "OBS.:\n",
        "\n",
        "- The main code is basically done, so focus on training the models and searching for the best hyperparameters and architectures.\n",
        "- You are not required to use this exact code or even the PyTorch library.\n",
        "- It is recommended to use execution environments with GPU access (such as Google Colab), since larger models will take more time to train.\n",
        "- Remember to document the history of your experiments and which results motivated the changes in subsequent experiments."
      ],
      "metadata": {
        "id": "BjND-9CP7R7n"
      }
    },
    {
      "cell_type": "code",
      "execution_count": 1,
      "metadata": {
        "id": "_ErVptyZ7Npv"
      },
      "outputs": [],
      "source": [
        "#@title Libs\n",
        "\n",
        "import torch\n",
        "import torchvision\n",
        "import torch.nn as nn\n",
        "import torchvision.transforms as transforms\n",
        "\n",
        "import matplotlib.pyplot as plt\n",
        "import numpy as np\n",
        "from sklearn import metrics\n",
        "\n",
        "from tqdm import tqdm"
      ]
    },
    {
      "cell_type": "code",
      "source": [
        "#@title Dataset Setup\n",
        "\n",
        "transform = transforms.Compose(\n",
        "    [transforms.ToTensor(),\n",
        "     transforms.Normalize((0.5, 0.5, 0.5), (0.5, 0.5, 0.5))])\n",
        "\n",
        "train_dataset = torchvision.datasets.CIFAR10(root='./data', train=True,\n",
        "                                        download=True, transform=transform)\n",
        "\n",
        "test_dataset = torchvision.datasets.CIFAR10(root='./data', train=False,\n",
        "                                       download=True, transform=transform)"
      ],
      "metadata": {
        "id": "fcH-AHUK8eGn",
        "colab": {
          "base_uri": "https://localhost:8080/"
        },
        "outputId": "2da6b663-9161-4890-da08-c06227d84fba"
      },
      "execution_count": 2,
      "outputs": [
        {
          "metadata": {
            "tags": null
          },
          "name": "stderr",
          "output_type": "stream",
          "text": [
            "100%|██████████| 170M/170M [00:03<00:00, 48.8MB/s]\n"
          ]
        }
      ]
    },
    {
      "cell_type": "markdown",
      "source": [
        "### Defining the CNN model\n",
        "Here we adapt the LeNet-5 architecture introduced in [*Gradient-based learning applied to document recognition*](https://ieeexplore.ieee.org/document/726791), originally developed to classify handwritten digits.\n",
        "\n",
        "![lenet5](https://www.researchgate.net/publication/359784095/figure/fig2/AS:11431281079624737@1660789284522/Example-of-a-CNN-LeNet-5-14-is-able-to-identify-handwritten-digits-for-zip-code.png)\n",
        "\n",
        "\n",
        "The main change we made here is the number of in/out channels, kernel sizes, padding, etc (enabling better results). It has 2 convolutional layers followed by 2 pooling (subsampling) layers. After the conv. blocks, we pass the feature maps through 2 hidden fully-connected layers to get the most activated neuron with the softmax function. If you want a more detailed explanation, [check this link](https://www.datasciencecentral.com/lenet-5-a-classic-cnn-architecture/) or reach us on Discord :)"
      ],
      "metadata": {
        "id": "6EZqIY5yam_a"
      }
    },
    {
      "cell_type": "code",
      "source": [
        "class CNN(nn.Module):\n",
        "  def __init__(self):\n",
        "    super(CNN, self).__init__()\n",
        "    # Defining convolution blocks\n",
        "    self.conv1 = nn.Conv2d(3, 32, kernel_size=3, padding=1)\n",
        "    self.conv2 = nn.Conv2d(32, 64, kernel_size=3, padding=1)\n",
        "\n",
        "    # Defining pooling layer\n",
        "    self.pool = nn.MaxPool2d(kernel_size=2, stride=2)\n",
        "\n",
        "    # Defining fully-connected layers\n",
        "    self.fc_hidden1 = nn.Linear(64 * 8 * 8, 120)\n",
        "    self.fc_hidden2 = nn.Linear(120, 84)\n",
        "    self.fc_output = nn.Linear(84, 10)\n",
        "\n",
        "  def forward(self, x):\n",
        "    x = self.pool(nn.ReLU()(self.conv1(x)))\n",
        "    x = self.pool(nn.ReLU()(self.conv2(x)))\n",
        "    x = x.view(x.size(0), -1) # flatten to input into fc layers\n",
        "    x = nn.ReLU()(self.fc_hidden1(x))\n",
        "    x = nn.ReLU()(self.fc_hidden2(x))\n",
        "    x = self.fc_output(x)\n",
        "    return x"
      ],
      "metadata": {
        "id": "KLjycMiT8zo-"
      },
      "execution_count": 3,
      "outputs": []
    },
    {
      "cell_type": "code",
      "source": [
        "#@title Defining metrics helper\n",
        "\n",
        "def get_scores(targets, predictions):\n",
        "    return {\n",
        "        \"accuracy\": metrics.accuracy_score(targets, predictions),\n",
        "        \"balanced_accuracy\": metrics.balanced_accuracy_score(targets, predictions),\n",
        "        \"precision\": metrics.precision_score(targets, predictions, average=\"weighted\"),\n",
        "        \"recall\": metrics.recall_score(targets, predictions, average=\"weighted\"),\n",
        "        \"f1_score\": metrics.f1_score(targets, predictions, average=\"weighted\")\n",
        "    }"
      ],
      "metadata": {
        "id": "13FaQlXcNvM6"
      },
      "execution_count": 4,
      "outputs": []
    },
    {
      "cell_type": "code",
      "source": [
        "#@title Hyperparameters\n",
        "\n",
        "learning_rate = 0.005\n",
        "num_epochs = 50\n",
        "batch_size = 64\n",
        "\n",
        "loss_function = nn.CrossEntropyLoss()"
      ],
      "metadata": {
        "id": "tyat2KDLL92I"
      },
      "execution_count": 5,
      "outputs": []
    },
    {
      "cell_type": "code",
      "source": [
        "#@title Loaders\n",
        "\n",
        "train_loader = torch.utils.data.DataLoader(train_dataset, batch_size=batch_size, shuffle=True)\n",
        "test_loader = torch.utils.data.DataLoader(test_dataset, batch_size=batch_size, shuffle=False)"
      ],
      "metadata": {
        "id": "OYk-5ANCMIRY"
      },
      "execution_count": 6,
      "outputs": []
    },
    {
      "cell_type": "code",
      "source": [
        "#@title Training loop\n",
        "\n",
        "# Build the model\n",
        "cnn = CNN()\n",
        "cnn.cuda()\n",
        "\n",
        "# Setting optimizer up\n",
        "optimizer = torch.optim.Adam(cnn.parameters(), lr=learning_rate)\n",
        "\n",
        "# Early stopping setup\n",
        "best_loss = float('inf')\n",
        "patience = 5\n",
        "patience_counter = 0\n",
        "\n",
        "# Start training epochs loop\n",
        "for epoch in tqdm(range(num_epochs)):\n",
        "  epoch_loss = 0.0\n",
        "  for i, (images, labels) in enumerate(train_loader):\n",
        "    images = images.cuda()\n",
        "    labels = labels.cuda()\n",
        "\n",
        "    # Forward pass\n",
        "    optimizer.zero_grad()\n",
        "    outputs = cnn(images)\n",
        "\n",
        "    # Backward pass\n",
        "    loss = loss_function(outputs, labels)\n",
        "    loss.backward()\n",
        "\n",
        "    optimizer.step()\n",
        "\n",
        "    epoch_loss += loss.item()\n",
        "\n",
        "    if (i+1) % 1000 == 0:\n",
        "      tqdm.write(f' Epoch {epoch + 1}/{num_epochs}, Step {i+1}/{len(train_dataset) // batch_size}, Loss: {loss}')\n",
        "\n",
        "  # Loss avrg\n",
        "  epoch_loss /= len(train_loader)\n",
        "  tqdm.write(f' Epoch {epoch+1} average loss: {epoch_loss:.4f}')\n",
        "\n",
        "  # Early stopping using loss\n",
        "  if epoch_loss < best_loss:\n",
        "    best_loss = epoch_loss\n",
        "    patience_counter = 0\n",
        "  else:\n",
        "    patience_counter += 1\n",
        "    if patience_counter >= patience:\n",
        "      tqdm.write(\"Early stopping triggered.\")\n",
        "      break"
      ],
      "metadata": {
        "id": "XjTJpiboLmSF",
        "colab": {
          "base_uri": "https://localhost:8080/"
        },
        "outputId": "5f20dce1-c127-498e-a61a-5a78a0f458d7"
      },
      "execution_count": null,
      "outputs": [
        {
          "output_type": "stream",
          "name": "stderr",
          "text": [
            "  2%|▏         | 1/50 [00:15<12:54, 15.81s/it]"
          ]
        },
        {
          "output_type": "stream",
          "name": "stdout",
          "text": [
            " Epoch 1 average loss: 1.3812\n"
          ]
        }
      ]
    },
    {
      "cell_type": "code",
      "source": [
        "#@title  Avaliação geral\n",
        "\n",
        "cnn.eval()\n",
        "predictions, true_labels = [], []\n",
        "\n",
        "with torch.no_grad():\n",
        "    for images, labels in test_loader:\n",
        "        images, labels = images.cuda(), labels.cuda()\n",
        "        outputs = cnn(images)\n",
        "        _, predicted = torch.max(outputs, 1)\n",
        "        predictions.extend(predicted.cpu().numpy())\n",
        "        true_labels.extend(labels.cpu().numpy())\n",
        "\n",
        "scores = get_scores(true_labels, predictions)\n",
        "print(\"🏁 Métricas globais do modelo:\\n\", scores)\n"
      ],
      "metadata": {
        "id": "lw6GWhmer78h",
        "colab": {
          "base_uri": "https://localhost:8080/"
        },
        "outputId": "c2c951a8-1a95-4b19-bd8f-ea4cd9ad2874"
      },
      "execution_count": null,
      "outputs": [
        {
          "output_type": "stream",
          "name": "stdout",
          "text": [
            "🏁 Métricas globais do modelo:\n",
            " {'accuracy': 0.4804, 'balanced_accuracy': np.float64(0.48040000000000005), 'precision': 0.49356522953887105, 'recall': 0.4804, 'f1_score': 0.4724329519889024}\n"
          ]
        }
      ]
    },
    {
      "cell_type": "code",
      "source": [
        "#@title  Acurácia por classe\n",
        "\n",
        "classes = test_dataset.classes\n",
        "class_correct = list(0. for i in range(10))\n",
        "class_total = list(0. for i in range(10))\n",
        "\n",
        "predictions_tensor = torch.tensor(predictions)\n",
        "true_tensor = torch.tensor(true_labels)\n",
        "\n",
        "for i in range(len(true_labels)):\n",
        "    label = true_tensor[i]\n",
        "    pred = predictions_tensor[i]\n",
        "    if label == pred:\n",
        "        class_correct[label] += 1\n",
        "    class_total[label] += 1\n",
        "\n",
        "for i in range(10):\n",
        "    acc = 100 * class_correct[i] / class_total[i]\n",
        "    print(f\"Acurácia da classe {classes[i]:10s}: {acc:.2f}%\")\n"
      ],
      "metadata": {
        "colab": {
          "base_uri": "https://localhost:8080/"
        },
        "id": "aCjS-uw39N_2",
        "outputId": "9b138eeb-0a7d-443f-eef1-a91fa3e9c438"
      },
      "execution_count": null,
      "outputs": [
        {
          "output_type": "stream",
          "name": "stdout",
          "text": [
            "Acurácia da classe airplane  : 47.70%\n",
            "Acurácia da classe automobile: 70.10%\n",
            "Acurácia da classe bird      : 27.10%\n",
            "Acurácia da classe cat       : 31.40%\n",
            "Acurácia da classe deer      : 55.90%\n",
            "Acurácia da classe dog       : 16.60%\n",
            "Acurácia da classe frog      : 46.20%\n",
            "Acurácia da classe horse     : 58.60%\n",
            "Acurácia da classe ship      : 63.90%\n",
            "Acurácia da classe truck     : 62.90%\n"
          ]
        }
      ]
    },
    {
      "cell_type": "code",
      "source": [
        "#@title Gráfico de acurácia por classe\n",
        "\n",
        "accuracies = [100 * class_correct[i] / class_total[i] for i in range(10)]\n",
        "\n",
        "plt.figure(figsize=(10,6))\n",
        "plt.bar(classes, accuracies, color='royalblue', alpha=0.8)\n",
        "plt.xlabel('Classe')\n",
        "plt.ylabel('Acurácia (%)')\n",
        "plt.title('Acurácia por classe - CNN CIFAR10')\n",
        "plt.xticks(rotation=45)\n",
        "plt.ylim(0, 100)\n",
        "plt.grid(axis='y', linestyle='--', alpha=0.7)\n",
        "plt.show()\n"
      ],
      "metadata": {
        "colab": {
          "base_uri": "https://localhost:8080/",
          "height": 616
        },
        "id": "XU22I4UN9QaO",
        "outputId": "55fd45a9-38e7-4054-b947-7f9284eba994"
      },
      "execution_count": null,
      "outputs": [
        {
          "output_type": "display_data",
          "data": {
            "text/plain": [
              "<Figure size 1000x600 with 1 Axes>"
            ],
            "image/png": "[encoded data removed]"
          },
          "metadata": {}
        }
      ]
    }
  ]
}